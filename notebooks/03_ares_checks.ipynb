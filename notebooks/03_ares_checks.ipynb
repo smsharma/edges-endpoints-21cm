{
 "cells": [
  {
   "cell_type": "code",
   "execution_count": 1,
   "metadata": {},
   "outputs": [
    {
     "name": "stdout",
     "output_type": "stream",
     "text": [
      "# WARNING: ARES not fully emcee version >= 3 compatible!\n",
      "#          emcee 2.2.1 is a safe bet for now.\n"
     ]
    }
   ],
   "source": [
    "import os\n",
    "import sys\n",
    "sys.path.append(\"/Users/smsharma/heptools/ares/\")\n",
    "sys.path.append(\"/Users/smsharma/heptools/\")\n",
    "\n",
    "os.environ[\"ARES\"] = \"/Users/smsharma/heptools/ares\"\n",
    "\n",
    "import ares\n",
    "from matplotlib import pylab\n",
    "import matplotlib.pyplot as plt\n",
    "\n",
    "%matplotlib inline\n",
    "%load_ext autoreload\n",
    "%autoreload 2"
   ]
  },
  {
   "cell_type": "code",
   "execution_count": 24,
   "metadata": {},
   "outputs": [
    {
     "name": "stdout",
     "output_type": "stream",
     "text": [
      "The autoreload extension is already loaded. To reload it, use:\n",
      "  %reload_ext autoreload\n"
     ]
    }
   ],
   "source": [
    "import os, sys\n",
    "import copy\n",
    "sys.path.append(\"../\")\n",
    "sys.path.append(\"../../twentyone-global/\")\n",
    "\n",
    "import matplotlib.pyplot as plt\n",
    "import matplotlib.pylab as pylab\n",
    "from matplotlib.lines import Line2D\n",
    "import matplotlib\n",
    "from scipy.interpolate import interp1d\n",
    "from tqdm import *\n",
    "\n",
    "from twentyone.twentyone import TwentyOne, TwentyOneSolver\n",
    "from twentyone.units import *\n",
    "\n",
    "from IPython.display import set_matplotlib_formats\n",
    "set_matplotlib_formats('retina')\n",
    "\n",
    "%matplotlib inline\n",
    "%load_ext autoreload\n",
    "%autoreload 2"
   ]
  },
  {
   "cell_type": "code",
   "execution_count": 25,
   "metadata": {},
   "outputs": [],
   "source": [
    "from plot_params import params\n",
    "pylab.rcParams.update(params)\n",
    "\n",
    "cols_default = plt.rcParams['axes.prop_cycle'].by_key()['color']"
   ]
  },
  {
   "cell_type": "code",
   "execution_count": 26,
   "metadata": {},
   "outputs": [
    {
     "data": {
      "application/vnd.jupyter.widget-view+json": {
       "model_id": "c34b0a0e084e4c3b945719f675fba867",
       "version_major": 2,
       "version_minor": 0
      },
      "text/plain": [
       "HBox(children=(IntProgress(value=0, max=1000), HTML(value='')))"
      ]
     },
     "metadata": {},
     "output_type": "display_data"
    },
    {
     "name": "stdout",
     "output_type": "stream",
     "text": [
      "\n"
     ]
    },
    {
     "data": {
      "application/vnd.jupyter.widget-view+json": {
       "model_id": "073b7aa7e58c4b2392e072c970813818",
       "version_major": 2,
       "version_minor": 0
      },
      "text/plain": [
       "HBox(children=(IntProgress(value=0, max=2000), HTML(value='')))"
      ]
     },
     "metadata": {},
     "output_type": "display_data"
    },
    {
     "name": "stdout",
     "output_type": "stream",
     "text": [
      "\n"
     ]
    },
    {
     "data": {
      "application/vnd.jupyter.widget-view+json": {
       "model_id": "27503a373adb45e2a7e1e0e12b067840",
       "version_major": 2,
       "version_minor": 0
      },
      "text/plain": [
       "HBox(children=(IntProgress(value=0, max=2000), HTML(value='')))"
      ]
     },
     "metadata": {},
     "output_type": "display_data"
    },
    {
     "name": "stdout",
     "output_type": "stream",
     "text": [
      "\n"
     ]
    }
   ],
   "source": [
    "to = TwentyOne(z_min=10., z_max=500., f_star_L=0.03, f_star_X=0.03, T_vir_cut=2e4 * Kelv)"
   ]
  },
  {
   "cell_type": "code",
   "execution_count": 105,
   "metadata": {},
   "outputs": [],
   "source": [
    "z_max = 400.\n",
    "z_min = 11.\n",
    "z_21_ary = np.logspace(np.log10(z_min), np.log10(z_max), 1000)[:: -1]"
   ]
  },
  {
   "cell_type": "code",
   "execution_count": 106,
   "metadata": {},
   "outputs": [
    {
     "data": {
      "text/plain": [
       "  message: 'The solver successfully reached the end of the integration interval.'\n",
       "     nfev: 794\n",
       "     njev: 0\n",
       "      nlu: 0\n",
       "      sol: None\n",
       "   status: 0\n",
       "  success: True\n",
       "        t: array([400.        , 398.56371824, 397.13259375, 395.70660801,\n",
       "       394.28574255, 392.86997901, 391.45929905, 390.05368443,\n",
       "       388.65311695, 387.2575785 , 385.86705101, 384.4815165 ,\n",
       "       383.10095703, 381.72535474, 380.35469183, 378.98895057,\n",
       "       377.62811329, 376.27216236, 374.92108026, 373.57484949,\n",
       "       372.23345264, 370.89687235, 369.56509132, 368.23809232,\n",
       "       366.91585819, 365.59837181, 364.28561613, 362.97757417,\n",
       "       361.674229  , 360.37556376, 359.08156164, 357.7922059 ,\n",
       "       356.50747986, 355.22736689, 353.95185042, 352.68091396,\n",
       "       351.41454105, 350.15271532, 348.89542043, 347.64264011,\n",
       "       346.39435816, 345.15055841, 343.91122479, 342.67634125,\n",
       "       341.4458918 , 340.21986054, 338.9982316 , 337.78098916,\n",
       "       336.56811748, 335.35960086, 334.15542367, 332.95557032,\n",
       "       331.7600253 , 330.56877312, 329.38179837, 328.19908571,\n",
       "       327.02061981, 325.84638543, 324.67636739, 323.51055053,\n",
       "       322.34891978, 321.1914601 , 320.03815651, 318.8889941 ,\n",
       "       317.74395799, 316.60303336, 315.46620546, 314.33345957,\n",
       "       313.20478104, 312.08015526, 310.95956768, 309.84300379,\n",
       "       308.73044916, 307.62188938, 306.51731011, 305.41669706,\n",
       "       304.32003599, 303.2273127 , 302.13851306, 301.05362297,\n",
       "       299.97262841, 298.89551537, 297.82226993, 296.7528782 ,\n",
       "       295.68732634, 294.62560056, 293.56768712, 292.51357234,\n",
       "       291.46324257, 290.41668423, 289.37388377, 288.33482769,\n",
       "       287.29950256, 286.26789498, 285.23999159, 284.2157791 ,\n",
       "       283.19524426, 282.17837385, 281.16515472, 280.15557377,\n",
       "       279.14961792, 278.14727416, 277.14852953, 276.15337108,\n",
       "       275.16178596, 274.17376133, 273.1892844 , 272.20834244,\n",
       "       271.23092275, 270.25701269, 269.28659964, 268.31967107,\n",
       "       267.35621445, 266.39621732, 265.43966725, 264.48655187,\n",
       "       263.53685885, 262.59057589, 261.64769076, 260.70819125,\n",
       "       259.7720652 , 258.83930051, 257.9098851 , 256.98380694,\n",
       "       256.06105406, 255.14161451, 254.22547639, 253.31262786,\n",
       "       252.40305709, 251.49675233, 250.59370184, 249.69389393,\n",
       "       248.79731697, 247.90395935, 247.01380952, 246.12685595,\n",
       "       245.24308717, 244.36249174, 243.48505827, 242.6107754 ,\n",
       "       241.73963182, 240.87161627, 240.0067175 , 239.14492432,\n",
       "       238.28622559, 237.4306102 , 236.57806706, 235.72858516,\n",
       "       234.8821535 , 234.03876112, 233.19839711, 232.3610506 ,\n",
       "       231.52671076, 230.69536678, 229.86700792, 229.04162344,\n",
       "       228.21920268, 227.39973499, 226.58320976, 225.76961643,\n",
       "       224.95894448, 224.15118341, 223.34632278, 222.54435215,\n",
       "       221.74526117, 220.94903949, 220.1556768 , 219.36516285,\n",
       "       218.5774874 , 217.79264025, 217.01061126, 216.23139031,\n",
       "       215.45496731, 214.68133221, 213.91047501, 213.14238573,\n",
       "       212.37705443, 211.61447121, 210.8546262 , 210.09750957,\n",
       "       209.34311152, 208.59142229, 207.84243215, 207.09613142,\n",
       "       206.35251043, 205.61155957, 204.87326924, 204.13762989,\n",
       "       203.40463201, 202.6742661 , 201.94652272, 201.22139246,\n",
       "       200.49886592, 199.77893376, 199.06158667, 198.34681536,\n",
       "       197.63461058, 196.92496311, 196.21786378, 195.51330344,\n",
       "       194.81127296, 194.11176327, 193.41476531, 192.72027006,\n",
       "       192.02826854, 191.3387518 , 190.6517109 , 189.96713697,\n",
       "       189.28502114, 188.60535458, 187.92812851, 187.25333415,\n",
       "       186.58096278, 185.9110057 , 185.24345423, 184.57829975,\n",
       "       183.91553364, 183.25514733, 182.59713226, 181.94147994,\n",
       "       181.28818187, 180.6372296 , 179.98861471, 179.3423288 ,\n",
       "       178.69836351, 178.05671051, 177.4173615 , 176.7803082 ,\n",
       "       176.14554237, 175.5130558 , 174.8828403 , 174.25488772,\n",
       "       173.62918993, 173.00573884, 172.38452637, 171.7655445 ,\n",
       "       171.1487852 , 170.53424051, 169.92190246, 169.31176314,\n",
       "       168.70381465, 168.09804912, 167.49445872, 166.89303563,\n",
       "       166.29377208, 165.6966603 , 165.10169257, 164.5088612 ,\n",
       "       163.91815851, 163.32957686, 162.74310863, 162.15874624,\n",
       "       161.57648212, 160.99630873, 160.41821858, 159.84220418,\n",
       "       159.26825808, 158.69637284, 158.12654108, 157.55875541,\n",
       "       156.9930085 , 156.42929302, 155.86760167, 155.30792719,\n",
       "       154.75026233, 154.19459988, 153.64093266, 153.08925349,\n",
       "       152.53955523, 151.99183078, 151.44607305, 150.90227497,\n",
       "       150.36042951, 149.82052965, 149.28256842, 148.74653885,\n",
       "       148.212434  , 147.68024696, 147.14997085, 146.6215988 ,\n",
       "       146.09512399, 145.57053958, 145.04783881, 144.5270149 ,\n",
       "       144.00806111, 143.49097073, 142.97573707, 142.46235347,\n",
       "       141.95081327, 141.44110986, 140.93323665, 140.42718706,\n",
       "       139.92295454, 139.42053257, 138.91991465, 138.42109431,\n",
       "       137.92406508, 137.42882053, 136.93535426, 136.44365988,\n",
       "       135.95373104, 135.46556138, 134.97914459, 134.49447439,\n",
       "       134.01154449, 133.53034865, 133.05088064, 132.57313426,\n",
       "       132.09710332, 131.62278167, 131.15016317, 130.67924171,\n",
       "       130.21001118, 129.74246552, 129.27659868, 128.81240463,\n",
       "       128.34987736, 127.8890109 , 127.42979926, 126.97223652,\n",
       "       126.51631676, 126.06203406, 125.60938256, 125.1583564 ,\n",
       "       124.70894974, 124.26115677, 123.81497169, 123.37038873,\n",
       "       122.92740213, 122.48600617, 122.04619513, 121.60796332,\n",
       "       121.17130507, 120.73621474, 120.30268668, 119.87071529,\n",
       "       119.44029499, 119.0114202 , 118.58408537, 118.15828498,\n",
       "       117.7340135 , 117.31126546, 116.89003539, 116.47031783,\n",
       "       116.05210734, 115.63539853, 115.220186  , 114.80646437,\n",
       "       114.3942283 , 113.98347244, 113.57419149, 113.16638014,\n",
       "       112.76003312, 112.35514517, 111.95171106, 111.54972556,\n",
       "       111.14918347, 110.75007961, 110.35240881, 109.95616594,\n",
       "       109.56134585, 109.16794344, 108.77595363, 108.38537134,\n",
       "       107.99619151, 107.60840911, 107.22201912, 106.83701655,\n",
       "       106.4533964 , 106.07115372, 105.69028357, 105.310781  ,\n",
       "       104.93264112, 104.55585902, 104.18042984, 103.80634872,\n",
       "       103.4336108 , 103.06221128, 102.69214535, 102.32340821,\n",
       "       101.9559951 , 101.58990126, 101.22512196, 100.86165247,\n",
       "       100.49948809, 100.13862414,  99.77905594,  99.42077885,\n",
       "        99.06378822,  98.70807944,  98.35364791,  98.00048903,\n",
       "        97.64859825,  97.297971  ,  96.94860274,  96.60048897,\n",
       "        96.25362517,  95.90800686,  95.56362956,  95.22048881,\n",
       "        94.87858018,  94.53789925,  94.1984416 ,  93.86020284,\n",
       "        93.5231786 ,  93.18736451,  92.85275623,  92.51934943,\n",
       "        92.1871398 ,  91.85612303,  91.52629485,  91.19765098,\n",
       "        90.87018718,  90.5438992 ,  90.21878282,  89.89483384,\n",
       "        89.57204807,  89.25042132,  88.92994944,  88.61062828,\n",
       "        88.29245371,  87.97542161,  87.65952788,  87.34476842,\n",
       "        87.03113918,  86.71863609,  86.4072551 ,  86.09699219,\n",
       "        85.78784334,  85.47980456,  85.17287185,  84.86704124,\n",
       "        84.56230879,  84.25867053,  83.95612255,  83.65466094,\n",
       "        83.35428178,  83.05498119,  82.75675531,  82.45960026,\n",
       "        82.16351221,  81.86848733,  81.57452179,  81.2816118 ,\n",
       "        80.98975356,  80.6989433 ,  80.40917725,  80.12045166,\n",
       "        79.8327628 ,  79.54610695,  79.2604804 ,  78.97587944,\n",
       "        78.69230041,  78.40973962,  78.12819342,  77.84765817,\n",
       "        77.56813025,  77.28960602,  77.01208189,  76.73555427,\n",
       "        76.46001958,  76.18547425,  75.91191474,  75.63933749,\n",
       "        75.36773899,  75.09711572,  74.82746418,  74.55878087,\n",
       "        74.29106233,  74.02430509,  73.75850569,  73.4936607 ,\n",
       "        73.22976669,  72.96682025,  72.70481796,  72.44375645,\n",
       "        72.18363234,  71.92444225,  71.66618284,  71.40885077,\n",
       "        71.15244269,  70.89695531,  70.6423853 ,  70.38872937,\n",
       "        70.13598425,  69.88414667,  69.63321336,  69.38318107,\n",
       "        69.13404658,  68.88580665,  68.63845809,  68.39199767,\n",
       "        68.14642223,  67.90172857,  67.65791353,  67.41497397,\n",
       "        67.17290672,  66.93170867,  66.69137669,  66.45190767,\n",
       "        66.21329852,  65.97554614,  65.73864745,  65.5025994 ,\n",
       "        65.26739893,  65.033043  ,  64.79952856,  64.56685261,\n",
       "        64.33501213,  64.10400412,  63.87382559,  63.64447357,\n",
       "        63.41594508,  63.18823716,  62.96134688,  62.7352713 ,\n",
       "        62.51000748,  62.28555253,  62.06190352,  61.83905757,\n",
       "        61.6170118 ,  61.39576332,  61.17530928,  60.95564683,\n",
       "        60.73677312,  60.51868533,  60.30138062,  60.08485618,\n",
       "        59.86910923,  59.65413695,  59.43993658,  59.22650534,\n",
       "        59.01384047,  58.80193921,  58.59079883,  58.38041659,\n",
       "        58.17078978,  57.96191567,  57.75379156,  57.54641477,\n",
       "        57.3397826 ,  57.1338924 ,  56.92874148,  56.7243272 ,\n",
       "        56.5206469 ,  56.31769797,  56.11547776,  55.91398367,\n",
       "        55.71321309,  55.51316341,  55.31383205,  55.11521643,\n",
       "        54.91731398,  54.72012214,  54.52363836,  54.32786009,\n",
       "        54.1327848 ,  53.93840997,  53.74473309,  53.55175164,\n",
       "        53.35946313,  53.16786507,  52.97695499,  52.7867304 ,\n",
       "        52.59718886,  52.4083279 ,  52.22014509,  52.03263798,\n",
       "        51.84580416,  51.6596412 ,  51.4741467 ,  51.28931826,\n",
       "        51.10515348,  50.92164998,  50.73880539,  50.55661734,\n",
       "        50.37508347,  50.19420144,  50.0139689 ,  49.83438352,\n",
       "        49.65544298,  49.47714496,  49.29948716,  49.12246728,\n",
       "        48.94608302,  48.7703321 ,  48.59521226,  48.42072122,\n",
       "        48.24685672,  48.07361652,  47.90099837,  47.72900005,\n",
       "        47.55761932,  47.38685397,  47.21670178,  47.04716056,\n",
       "        46.87822812,  46.70990226,  46.54218081,  46.37506159,\n",
       "        46.20854246,  46.04262124,  45.8772958 ,  45.71256399,\n",
       "        45.54842369,  45.38487276,  45.2219091 ,  45.05953059,\n",
       "        44.89773514,  44.73652064,  44.57588502,  44.4158262 ,\n",
       "        44.2563421 ,  44.09743065,  43.93908982,  43.78131753,\n",
       "        43.62411176,  43.46747047,  43.31139164,  43.15587323,\n",
       "        43.00091325,  42.84650968,  42.69266053,  42.53936381,\n",
       "        42.38661753,  42.23441971,  42.0827684 ,  41.93166162,\n",
       "        41.78109742,  41.63107385,  41.48158897,  41.33264084,\n",
       "        41.18422755,  41.03634716,  40.88899777,  40.74217747,\n",
       "        40.59588435,  40.45011653,  40.30487212,  40.16014924,\n",
       "        40.01594601,  39.87226058,  39.72909108,  39.58643566,\n",
       "        39.44429247,  39.30265968,  39.16153544,  39.02091795,\n",
       "        38.88080537,  38.74119589,  38.6020877 ,  38.46347902,\n",
       "        38.32536804,  38.18775297,  38.05063204,  37.91400347,\n",
       "        37.77786549,  37.64221634,  37.50705427,  37.37237752,\n",
       "        37.23818436,  37.10447305,  36.97124186,  36.83848906,\n",
       "        36.70621293,  36.57441177,  36.44308387,  36.31222753,\n",
       "        36.18184106,  36.05192276,  35.92247096,  35.79348399,\n",
       "        35.66496017,  35.53689784,  35.40929535,  35.28215103,\n",
       "        35.15546326,  35.02923038,  34.90345077,  34.7781228 ,\n",
       "        34.65324484,  34.52881528,  34.40483251,  34.28129493,\n",
       "        34.15820093,  34.03554893,  33.91333734,  33.79156457,\n",
       "        33.67022905,  33.54932921,  33.42886348,  33.30883032,\n",
       "        33.18922815,  33.07005545,  32.95131065,  32.83299224,\n",
       "        32.71509867,  32.59762842,  32.48057997,  32.36395181,\n",
       "        32.24774243,  32.13195032,  32.01657398,  31.90161193,\n",
       "        31.78706267,  31.67292473,  31.55919662,  31.44587687,\n",
       "        31.33296402,  31.22045661,  31.10835318,  30.99665228,\n",
       "        30.88535247,  30.7744523 ,  30.66395033,  30.55384515,\n",
       "        30.44413533,  30.33481944,  30.22589607,  30.11736381,\n",
       "        30.00922126,  29.90146702,  29.79409969,  29.68711788,\n",
       "        29.58052022,  29.47430532,  29.3684718 ,  29.2630183 ,\n",
       "        29.15794345,  29.05324589,  28.94892428,  28.84497725,\n",
       "        28.74140346,  28.63820158,  28.53537026,  28.43290818,\n",
       "        28.33081401,  28.22908644,  28.12772413,  28.02672579,\n",
       "        27.9260901 ,  27.82581577,  27.72590149,  27.62634597,\n",
       "        27.52714793,  27.42830608,  27.32981914,  27.23168584,\n",
       "        27.13390491,  27.03647507,  26.93939508,  26.84266368,\n",
       "        26.74627961,  26.65024163,  26.55454849,  26.45919895,\n",
       "        26.36419179,  26.26952577,  26.17519967,  26.08121227,\n",
       "        25.98756234,  25.89424869,  25.8012701 ,  25.70862536,\n",
       "        25.61631329,  25.52433268,  25.43268235,  25.3413611 ,\n",
       "        25.25036777,  25.15970116,  25.06936011,  24.97934345,\n",
       "        24.88965001,  24.80027864,  24.71122817,  24.62249745,\n",
       "        24.53408534,  24.44599069,  24.35821237,  24.27074923,\n",
       "        24.18360014,  24.09676398,  24.01023963,  23.92402595,\n",
       "        23.83812185,  23.7525262 ,  23.6672379 ,  23.58225584,\n",
       "        23.49757893,  23.41320608,  23.32913617,  23.24536814,\n",
       "        23.1619009 ,  23.07873336,  22.99586445,  22.9132931 ,\n",
       "        22.83101823,  22.7490388 ,  22.66735372,  22.58596196,\n",
       "        22.50486244,  22.42405414,  22.34353599,  22.26330695,\n",
       "        22.183366  ,  22.10371209,  22.02434419,  21.94526128,\n",
       "        21.86646234,  21.78794634,  21.70971226,  21.6317591 ,\n",
       "        21.55408585,  21.4766915 ,  21.39957505,  21.3227355 ,\n",
       "        21.24617186,  21.16988314,  21.09386835,  21.0181265 ,\n",
       "        20.94265662,  20.86745773,  20.79252886,  20.71786904,\n",
       "        20.64347729,  20.56935267,  20.4954942 ,  20.42190094,\n",
       "        20.34857193,  20.27550623,  20.20270288,  20.13016094,\n",
       "        20.05787949,  19.98585757,  19.91409426,  19.84258864,\n",
       "        19.77133977,  19.70034673,  19.62960861,  19.55912449,\n",
       "        19.48889345,  19.4189146 ,  19.34918702,  19.27970981,\n",
       "        19.21048207,  19.14150291,  19.07277143,  19.00428674,\n",
       "        18.93604797,  18.86805422,  18.80030461,  18.73279828,\n",
       "        18.66553433,  18.59851192,  18.53173016,  18.4651882 ,\n",
       "        18.39888516,  18.33282021,  18.26699247,  18.2014011 ,\n",
       "        18.13604525,  18.07092407,  18.00603672,  17.94138237,\n",
       "        17.87696017,  17.81276929,  17.7488089 ,  17.68507817,\n",
       "        17.62157629,  17.55830241,  17.49525574,  17.43243545,\n",
       "        17.36984073,  17.30747076,  17.24532475,  17.18340189,\n",
       "        17.12170137,  17.0602224 ,  16.99896419,  16.93792593,\n",
       "        16.87710685,  16.81650615,  16.75612304,  16.69595676,\n",
       "        16.63600651,  16.57627153,  16.51675104,  16.45744427,\n",
       "        16.39835045,  16.33946883,  16.28079862,  16.22233909,\n",
       "        16.16408946,  16.106049  ,  16.04821694,  15.99059253,\n",
       "        15.93317504,  15.87596372,  15.81895783,  15.76215663,\n",
       "        15.70555938,  15.64916536,  15.59297383,  15.53698407,\n",
       "        15.48119536,  15.42560696,  15.37021817,  15.31502826,\n",
       "        15.26003652,  15.20524224,  15.15064471,  15.09624322,\n",
       "        15.04203707,  14.98802557,  14.934208  ,  14.88058367,\n",
       "        14.82715189,  14.77391197,  14.72086322,  14.66800496,\n",
       "        14.61533649,  14.56285713,  14.51056622,  14.45846306,\n",
       "        14.406547  ,  14.35481735,  14.30327344,  14.25191461,\n",
       "        14.2007402 ,  14.14974954,  14.09894197,  14.04831684,\n",
       "        13.99787349,  13.94761126,  13.89752951,  13.84762759,\n",
       "        13.79790486,  13.74836066,  13.69899436,  13.64980532,\n",
       "        13.6007929 ,  13.55195648,  13.50329541,  13.45480907,\n",
       "        13.40649682,  13.35835806,  13.31039214,  13.26259846,\n",
       "        13.21497639,  13.16752531,  13.12024462,  13.0731337 ,\n",
       "        13.02619194,  12.97941874,  12.93281348,  12.88637557,\n",
       "        12.84010441,  12.79399939,  12.74805992,  12.70228541,\n",
       "        12.65667525,  12.61122887,  12.56594568,  12.52082508,\n",
       "        12.4758665 ,  12.43106935,  12.38643306,  12.34195704,\n",
       "        12.29764072,  12.25348353,  12.20948489,  12.16564424,\n",
       "        12.12196101,  12.07843463,  12.03506454,  11.99185018,\n",
       "        11.94879099,  11.90588641,  11.8631359 ,  11.82053888,\n",
       "        11.77809482,  11.73580316,  11.69366336,  11.65167488,\n",
       "        11.60983716,  11.56814966,  11.52661186,  11.4852232 ,\n",
       "        11.44398316,  11.4028912 ,  11.36194679,  11.3211494 ,\n",
       "        11.28049849,  11.23999356,  11.19963407,  11.15941949,\n",
       "        11.11934931,  11.07942302,  11.03964008,  11.        ])\n",
       " t_events: None\n",
       "        y: array([[1.06312970e+03, 1.05899404e+03, 1.05487102e+03, ...,\n",
       "        1.25914780e+02, 1.28386573e+02, 1.30920955e+02],\n",
       "       [5.22362704e-04, 5.20522491e-04, 5.18699652e-04, ...,\n",
       "        2.58638923e-03, 2.62836198e-03, 2.67113828e-03]])\n",
       " y_events: None"
      ]
     },
     "execution_count": 106,
     "metadata": {},
     "output_type": "execute_result"
    }
   ],
   "source": [
    "T_gamma_SM = lambda z: to.T_CMB(z)\n",
    "to_SM_solve = TwentyOneSolver(T_gamma=T_gamma_SM, to=to, z_ary=z_21_ary)\n",
    "to_SM_solve.solve()"
   ]
  },
  {
   "cell_type": "code",
   "execution_count": 30,
   "metadata": {},
   "outputs": [],
   "source": [
    "# fig, ax = plt.subplots()\n",
    "\n",
    "# plt.plot(1 + to_SM_solve.z_ary, to_SM_solve.delta_T_b_ary, label='Standard Model', color='k', alpha=0.5, ls='--')\n",
    "\n",
    "# plt.xlabel(\"$1 + z$\")\n",
    "# plt.ylabel(\"$\\Delta T_{\\mathrm b}\\,\\mathrm{[K]}$\")\n",
    "# plt.title(r\"\\bf{21-cm absorption temperature}\")\n",
    "\n",
    "# plt.legend(loc='lower right', handlelength=1.3)\n",
    "\n",
    "# plt.xlim(np.min(1 + to_SM_solve.z_ary), np.max(1 + to_SM_solve.z_ary))\n",
    "# plt.ylim(-0.3, 0.1)\n",
    "\n",
    "# plt.xscale(\"log\")\n",
    "\n",
    "# plt.tight_layout()\n",
    "\n"
   ]
  },
  {
   "cell_type": "code",
   "execution_count": 97,
   "metadata": {},
   "outputs": [
    {
     "name": "stdout",
     "output_type": "stream",
     "text": [
      "# Loaded $ARES/input/inits/inits_planck_TTTEEE_lowl_lowE_best.txt.\n",
      "\n",
      "##############################################################################################################\n",
      "####                                      ARES Simulation: Overview                                       ####\n",
      "##############################################################################################################\n",
      "#### ---------------------------------------------------------------------------------------------------- ####\n",
      "#### Uniform Backgrounds                                                                                  ####\n",
      "#### ---------------------------------------------------------------------------------------------------- ####\n",
      "####               sfrd      sed    radio    O/IR    Ly-a     LW     Ly-C   X-ray    RTE                  ####\n",
      "#### pop #0  :    fcoll      yes                      x       x                                           ####\n",
      "#### pop #1  :    fcoll      yes                                              x                           ####\n",
      "#### ---------------------------------------------------------------------------------------------------- ####\n",
      "#### Physics                                                                                              ####\n",
      "#### ---------------------------------------------------------------------------------------------------- ####\n",
      "#### cgm_initial_temperature        : [10000.0]                                                           ####\n",
      "#### clumping_factor                : 1                                                                   ####\n",
      "#### secondary_ionization           : 1                                                                   ####\n",
      "#### approx_Salpha                  : 1                                                                   ####\n",
      "#### include_He                     : False                                                               ####\n",
      "#### feedback_LW                    : False                                                               ####\n",
      "##############################################################################################################\n"
     ]
    }
   ],
   "source": [
    "pars = \\\n",
    "{\n",
    " 'problem_type': 100,              # Blank slate global 21-cm signal calculation\n",
    "\n",
    " # Setup star formation\n",
    " 'pop_Tmin{0}': 2e4,               # atomic cooling halos\n",
    " 'pop_fstar{0}': 3e-2,             # 10% star formation efficiency\n",
    "\n",
    " # Setup UV emission\n",
    " 'pop_sed_model{0}': True,\n",
    " 'pop_sed{0}': 'bb',               # PopII stars -> 10^4 K blackbodies\n",
    " 'pop_temperature{0}': 1e4,\n",
    " 'pop_rad_yield{0}': 1e42,\n",
    " 'pop_fesc{0}': 1.0,\n",
    " 'pop_Emin{0}': 10.19,\n",
    " 'pop_Emax{0}': 24.6,\n",
    " 'pop_EminNorm{0}': 13.6,\n",
    " 'pop_EmaxNorm{0}': 24.6,\n",
    " 'pop_lya_src{0}': True,\n",
    " 'pop_ion_src_cgm{0}': False,\n",
    " 'pop_heat_src_igm{0}': False,\n",
    "\n",
    " # Setup X-ray emission\n",
    " 'pop_sed{1}': 'pl',\n",
    " 'pop_alpha{1}': -1.5,\n",
    " 'pop_rad_yield{1}': 2.6e39,\n",
    " 'pop_Emin{1}': 2e2,\n",
    " 'pop_Emax{1}': 3e4,\n",
    " 'pop_EminNorm{1}': 5e2,\n",
    " 'pop_EmaxNorm{1}': 8e3,\n",
    "\n",
    " 'pop_lya_src{1}': False,\n",
    " 'pop_ion_src_cgm{1}': False,\n",
    " 'pop_heat_src_igm{1}': True,\n",
    "}\n",
    "\n",
    "sim = ares.simulations.Global21cm(**pars)"
   ]
  },
  {
   "cell_type": "code",
   "execution_count": 98,
   "metadata": {},
   "outputs": [
    {
     "name": "stdout",
     "output_type": "stream",
     "text": [
      "# Loaded $ARES/input/hmf/hmf_ST_planck_TTTEEE_lowl_lowE_best_logM_1400_4-18_z_1201_0-60.hdf5.\n",
      "# Loaded $ARES/input/hmf/hmf_ST_planck_TTTEEE_lowl_lowE_best_logM_1400_4-18_z_1201_0-60.hdf5.\n"
     ]
    }
   ],
   "source": [
    "sim.run()"
   ]
  },
  {
   "cell_type": "code",
   "execution_count": 114,
   "metadata": {},
   "outputs": [
    {
     "data": {
      "image/png": "[encoded data removed]",
      "text/plain": [
       "<Figure size 443.077x360 with 1 Axes>"
      ]
     },
     "metadata": {
      "image/png": {
       "height": 352,
       "width": 435
      },
      "needs_background": "light"
     },
     "output_type": "display_data"
    }
   ],
   "source": [
    "plt.plot(sim.history['z'], sim.history['dTb'] / 1000., label=r'\\texttt{ares}', color='k', alpha=0.3)\n",
    "plt.plot(1 + to_SM_solve.z_ary, to_SM_solve.delta_T_b_ary, label=\"This work\", ls='--')\n",
    "\n",
    "plt.xscale(\"log\")\n",
    "plt.xlim(10, 400)\n",
    "plt.xlabel(\"$1 + z$\")\n",
    "plt.ylabel(\"$\\Delta T_{\\mathrm b}\\,\\mathrm{[K]}$\")\n",
    "plt.title(r\"\\bf{Comparison with \\texttt{ares}}\")\n",
    "\n",
    "plt.legend()\n",
    "\n",
    "plt.tight_layout()\n",
    "plt.savefig(\"/Users/smsharma/Desktop/ares_comparison.pdf\")"
   ]
  },
  {
   "cell_type": "code",
   "execution_count": 34,
   "metadata": {},
   "outputs": [
    {
     "data": {
      "text/plain": [
       "{'pop_sfr_model': 'fcoll', 'pop_Tmin': 10000.0, 'pop_Tmax': None}"
      ]
     },
     "execution_count": 34,
     "metadata": {},
     "output_type": "execute_result"
    }
   ],
   "source": [
    "pars = ares.util.ParameterBundle('pop:fcoll')\n",
    "pars"
   ]
  },
  {
   "cell_type": "code",
   "execution_count": 8,
   "metadata": {},
   "outputs": [],
   "source": [
    "pop = ares.populations.GalaxyPopulation(**pars)"
   ]
  },
  {
   "cell_type": "code",
   "execution_count": 9,
   "metadata": {},
   "outputs": [],
   "source": [
    "from ares.physics.Constants import rhodot_cgs\n",
    "\n",
    "z_test = 10"
   ]
  },
  {
   "cell_type": "code",
   "execution_count": 10,
   "metadata": {},
   "outputs": [
    {
     "name": "stdout",
     "output_type": "stream",
     "text": [
      "# Loaded $ARES/input/hmf/hmf_ST_planck_TTTEEE_lowl_lowE_best_logM_1400_4-18_z_1201_0-60.hdf5.\n"
     ]
    },
    {
     "data": {
      "text/plain": [
       "3.8204691006774635e-18"
      ]
     },
     "execution_count": 10,
     "metadata": {},
     "output_type": "execute_result"
    }
   ],
   "source": [
    "pop.dfcolldt(z_test)"
   ]
  },
  {
   "cell_type": "code",
   "execution_count": 11,
   "metadata": {},
   "outputs": [
    {
     "data": {
      "text/plain": [
       "0.748727082235617"
      ]
     },
     "execution_count": 11,
     "metadata": {},
     "output_type": "execute_result"
    }
   ],
   "source": [
    "pop.cosm.rho_b_z0 * pop.dfcolldt(z_test) * rhodot_cgs"
   ]
  },
  {
   "cell_type": "code",
   "execution_count": 12,
   "metadata": {},
   "outputs": [
    {
     "data": {
      "text/plain": [
       "0.07487270822356171"
      ]
     },
     "execution_count": 12,
     "metadata": {},
     "output_type": "execute_result"
    }
   ],
   "source": [
    "pop.SFRD(z_test) * rhodot_cgs"
   ]
  },
  {
   "cell_type": "code",
   "execution_count": 13,
   "metadata": {},
   "outputs": [
    {
     "ename": "TypeError",
     "evalue": "'NoneType' object is not subscriptable",
     "output_type": "error",
     "traceback": [
      "\u001b[0;31m---------------------------------------------------------------------------\u001b[0m",
      "\u001b[0;31mTypeError\u001b[0m                                 Traceback (most recent call last)",
      "\u001b[0;32m<ipython-input-13-f6cd09623ce9>\u001b[0m in \u001b[0;36m<module>\u001b[0;34m\u001b[0m\n\u001b[1;32m      1\u001b[0m \u001b[0mmgb\u001b[0m \u001b[0;34m=\u001b[0m \u001b[0mares\u001b[0m\u001b[0;34m.\u001b[0m\u001b[0msimulations\u001b[0m\u001b[0;34m.\u001b[0m\u001b[0mMetaGalacticBackground\u001b[0m\u001b[0;34m(\u001b[0m\u001b[0;34m**\u001b[0m\u001b[0mpars\u001b[0m\u001b[0;34m)\u001b[0m\u001b[0;34m\u001b[0m\u001b[0;34m\u001b[0m\u001b[0m\n\u001b[1;32m      2\u001b[0m \u001b[0mmgb\u001b[0m\u001b[0;34m.\u001b[0m\u001b[0mrun\u001b[0m\u001b[0;34m(\u001b[0m\u001b[0;34m)\u001b[0m\u001b[0;34m\u001b[0m\u001b[0;34m\u001b[0m\u001b[0m\n\u001b[0;32m----> 3\u001b[0;31m \u001b[0mz\u001b[0m\u001b[0;34m,\u001b[0m \u001b[0mE\u001b[0m\u001b[0;34m,\u001b[0m \u001b[0mflux\u001b[0m \u001b[0;34m=\u001b[0m \u001b[0mmgb\u001b[0m\u001b[0;34m.\u001b[0m\u001b[0mget_history\u001b[0m\u001b[0;34m(\u001b[0m\u001b[0mflatten\u001b[0m\u001b[0;34m=\u001b[0m\u001b[0;32mTrue\u001b[0m\u001b[0;34m)\u001b[0m\u001b[0;34m\u001b[0m\u001b[0;34m\u001b[0m\u001b[0m\n\u001b[0m",
      "\u001b[0;32m~/anaconda3/lib/python3.7/site-packages/ares-0.1-py3.7.egg/ares/simulations/MetaGalacticBackground.py\u001b[0m in \u001b[0;36mget_history\u001b[0;34m(self, popid, flatten, today_only)\u001b[0m\n\u001b[1;32m   1274\u001b[0m \u001b[0;34m\u001b[0m\u001b[0m\n\u001b[1;32m   1275\u001b[0m         \u001b[0mz\u001b[0m \u001b[0;34m=\u001b[0m \u001b[0mself\u001b[0m\u001b[0;34m.\u001b[0m\u001b[0msolver\u001b[0m\u001b[0;34m.\u001b[0m\u001b[0mredshifts\u001b[0m\u001b[0;34m[\u001b[0m\u001b[0mpopid\u001b[0m\u001b[0;34m]\u001b[0m\u001b[0;34m\u001b[0m\u001b[0;34m\u001b[0m\u001b[0m\n\u001b[0;32m-> 1276\u001b[0;31m         \u001b[0mzflip\u001b[0m \u001b[0;34m=\u001b[0m \u001b[0mz\u001b[0m\u001b[0;34m[\u001b[0m\u001b[0;34m-\u001b[0m\u001b[0;36m1\u001b[0m\u001b[0;34m:\u001b[0m\u001b[0;34m:\u001b[0m\u001b[0;34m-\u001b[0m\u001b[0;36m1\u001b[0m\u001b[0;34m]\u001b[0m\u001b[0;34m\u001b[0m\u001b[0;34m\u001b[0m\u001b[0m\n\u001b[0m\u001b[1;32m   1277\u001b[0m         \u001b[0mzmin\u001b[0m \u001b[0;34m=\u001b[0m \u001b[0mmin\u001b[0m\u001b[0;34m(\u001b[0m\u001b[0mz\u001b[0m\u001b[0;34m)\u001b[0m\u001b[0;34m\u001b[0m\u001b[0;34m\u001b[0m\u001b[0m\n\u001b[1;32m   1278\u001b[0m         \u001b[0;31m#else:\u001b[0m\u001b[0;34m\u001b[0m\u001b[0;34m\u001b[0m\u001b[0;34m\u001b[0m\u001b[0m\n",
      "\u001b[0;31mTypeError\u001b[0m: 'NoneType' object is not subscriptable"
     ]
    }
   ],
   "source": [
    "mgb = ares.simulations.MetaGalacticBackground(**pars)\n",
    "mgb.run()\n",
    "z, E, flux = mgb.get_history(flatten=True)\n"
   ]
  },
  {
   "cell_type": "markdown",
   "metadata": {},
   "source": [
    "## misc"
   ]
  },
  {
   "cell_type": "code",
   "execution_count": 11,
   "metadata": {},
   "outputs": [],
   "source": [
    "import ares\n",
    "from ares.physics.Constants import rhodot_cgs"
   ]
  },
  {
   "cell_type": "code",
   "execution_count": 12,
   "metadata": {},
   "outputs": [],
   "source": [
    "pars = \\\n",
    "{\n",
    " 'problem_type': 100,\n",
    "\n",
    " # Setup star formation\n",
    " 'pop_Mmin': 1e6,   \n",
    " 'pop_fstar': 1.,     \n",
    "}\n",
    "\n",
    "pop = ares.populations.GalaxyPopulation(**pars)"
   ]
  },
  {
   "cell_type": "code",
   "execution_count": 13,
   "metadata": {},
   "outputs": [
    {
     "name": "stdout",
     "output_type": "stream",
     "text": [
      "# Loaded $ARES/input/hmf/hmf_ST_planck_TTTEEE_lowl_lowE_best_logM_1400_4-18_z_1201_0-60.hdf5.\n"
     ]
    },
    {
     "data": {
      "text/plain": [
       "1.4239538975793693"
      ]
     },
     "execution_count": 13,
     "metadata": {},
     "output_type": "execute_result"
    }
   ],
   "source": [
    "z = 6.\n",
    "pop.SFRD(z) * rhodot_cgs"
   ]
  },
  {
   "cell_type": "code",
   "execution_count": null,
   "metadata": {},
   "outputs": [],
   "source": []
  }
 ],
 "metadata": {
  "kernelspec": {
   "display_name": "Python 3",
   "language": "python",
   "name": "python3"
  },
  "language_info": {
   "codemirror_mode": {
    "name": "ipython",
    "version": 3
   },
   "file_extension": ".py",
   "mimetype": "text/x-python",
   "name": "python",
   "nbconvert_exporter": "python",
   "pygments_lexer": "ipython3",
   "version": "3.7.3"
  }
 },
 "nbformat": 4,
 "nbformat_minor": 2
}
