{
 "cells": [
  {
   "cell_type": "code",
   "execution_count": 1,
   "metadata": {},
   "outputs": [],
   "source": [
    "import os, sys\n",
    "import copy\n",
    "\n",
    "sys.path.append(\"../\")\n",
    "sys.path.append(\"../../spectral_distortions_perturbations/\")\n",
    "sys.path.append(\"../../twentyone-global/\")\n",
    "\n",
    "import matplotlib.pyplot as plt\n",
    "import matplotlib.pylab as pylab\n",
    "from matplotlib.lines import Line2D\n",
    "import matplotlib\n",
    "from scipy.interpolate import interp1d\n",
    "from tqdm import *\n",
    "\n",
    "from grf.grf import FIRAS\n",
    "from twentyone.twentyone import TwentyOne, TwentyOneSolver\n",
    "from grf.pk_interp import PowerSpectrumGridInterpolator\n",
    "from decay.units import *\n",
    "from decay.decay import DecaySpectra\n",
    "\n",
    "from IPython.display import set_matplotlib_formats\n",
    "set_matplotlib_formats('retina')\n",
    "\n",
    "%matplotlib inline\n",
    "%load_ext autoreload\n",
    "%autoreload 2"
   ]
  },
  {
   "cell_type": "code",
   "execution_count": 2,
   "metadata": {},
   "outputs": [],
   "source": [
    "from plot_params import params\n",
    "pylab.rcParams.update(params)\n",
    "\n",
    "cols_default = plt.rcParams['axes.prop_cycle'].by_key()['color']"
   ]
  },
  {
   "cell_type": "code",
   "execution_count": 3,
   "metadata": {},
   "outputs": [],
   "source": [
    "plots_dir = '../../spectral_distortions_perturbations/paper/draft-21cm-features/plots/'\n",
    "plots_dir = '../../spectral_distortions_perturbations/paper/draft-21cm-features/prl-v2/letter/'"
   ]
  },
  {
   "cell_type": "markdown",
   "metadata": {},
   "source": [
    "## 21-cm and perturbation classes"
   ]
  },
  {
   "cell_type": "code",
   "execution_count": null,
   "metadata": {},
   "outputs": [
    {
     "data": {
      "application/vnd.jupyter.widget-view+json": {
       "model_id": "bcf899b9c50c4dc596e0aca3acce5821",
       "version_major": 2,
       "version_minor": 0
      },
      "text/plain": [
       "  0%|          | 0/1000 [00:00<?, ?it/s]"
      ]
     },
     "metadata": {},
     "output_type": "display_data"
    },
    {
     "data": {
      "application/vnd.jupyter.widget-view+json": {
       "model_id": "933164ee5ec64733abd9b2e82cdd890c",
       "version_major": 2,
       "version_minor": 0
      },
      "text/plain": [
       "  0%|          | 0/2000 [00:00<?, ?it/s]"
      ]
     },
     "metadata": {},
     "output_type": "display_data"
    },
    {
     "data": {
      "application/vnd.jupyter.widget-view+json": {
       "model_id": "faaf37a9839d428b84679fafc512a0ff",
       "version_major": 2,
       "version_minor": 0
      },
      "text/plain": [
       "  0%|          | 0/2000 [00:00<?, ?it/s]"
      ]
     },
     "metadata": {},
     "output_type": "display_data"
    }
   ],
   "source": [
    "to = TwentyOne(z_min=10., z_max=1000., f_star_L=0.03, f_star_X=0.03, T_vir_cut=2e4 * Kelv)"
   ]
  },
  {
   "cell_type": "code",
   "execution_count": null,
   "metadata": {},
   "outputs": [],
   "source": [
    "wr = 6284\n",
    "im = 528\n",
    "wr - (im * 6) + ((im / 2) * 3)"
   ]
  },
  {
   "cell_type": "code",
   "execution_count": null,
   "metadata": {},
   "outputs": [],
   "source": [
    "aspect_ratio = 1.40 * 2\n",
    "2974 + (300 / (0.5 * aspect_ratio) + 40) * 3"
   ]
  },
  {
   "cell_type": "code",
   "execution_count": null,
   "metadata": {},
   "outputs": [],
   "source": [
    "# Define power spectrum for perturbations treatment\n",
    "pspec = PowerSpectrumGridInterpolator(\"franken_lower\")\n",
    "firas = FIRAS(pspec)"
   ]
  },
  {
   "cell_type": "markdown",
   "metadata": {},
   "source": [
    "## EDGES fit"
   ]
  },
  {
   "cell_type": "code",
   "execution_count": 9,
   "metadata": {},
   "outputs": [
    {
     "data": {
      "image/png": "[encoded data removed]",
      "text/plain": [
       "<Figure size 443.077x360 with 1 Axes>"
      ]
     },
     "metadata": {
      "needs_background": "light"
     },
     "output_type": "display_data"
    }
   ],
   "source": [
    "from twentyone.edges import EDGES_fit, opz_to_freq, freq_to_opz\n",
    "\n",
    "nu_ary = np.linspace(50, 100, 1000)\n",
    "z_ary = freq_to_opz(nu_ary) - 1\n",
    "ef = EDGES_fit(z_ary, params=\"default\")\n",
    "plt.plot(1 + z_ary, ef.T21_fit[0])\n",
    "plt.fill_between(1 + z_ary, ef.T21_fit[1], ef.T21_fit[2], alpha=0.1)\n",
    "\n",
    "T21_EDGES = ef.T21_fit[0]\n",
    "T21_EDGES_min = ef.T21_fit[1]\n",
    "T21_EDGES_max = ef.T21_fit[2]\n",
    "z_ary_EDGES = z_ary"
   ]
  },
  {
   "cell_type": "markdown",
   "metadata": {},
   "source": [
    "## 1. Demonstrative benchmark"
   ]
  },
  {
   "cell_type": "code",
   "execution_count": 10,
   "metadata": {},
   "outputs": [
    {
     "name": "stderr",
     "output_type": "stream",
     "text": [
      "../../spectral_distortions_perturbations/grf/grf.py:663: FutureWarning: read_table is deprecated, use read_csv instead.\n",
      "  df = pd.read_table(\"../data/firas_monopole_spec_v1.txt\", skiprows=18, sep=\"\\s+\", header=None, names=[\"freq\", \"I\", \"residual\", \"uncert\", \"poles\"])\n"
     ]
    }
   ],
   "source": [
    "spec_dapper = DecaySpectra(pspec)"
   ]
  },
  {
   "cell_type": "code",
   "execution_count": 11,
   "metadata": {},
   "outputs": [
    {
     "name": "stdout",
     "output_type": "stream",
     "text": [
      "219.5723166996104 5.103437915794908e-05\n"
     ]
    }
   ],
   "source": [
    "m_Ap = 1e-12 * eV\n",
    "z_res = spec_dapper.get_z_crossings(m_Ap, spec_dapper.omega_21)[-1]\n",
    "\n",
    "z_end = 50.\n",
    "m_a = (1 + z_res) / (z_end + 1) * spec_dapper.omega_21 * 2\n",
    "\n",
    "tau_a = spec_dapper.tau_a_LL()\n",
    "\n",
    "print(z_res, m_a / eV)"
   ]
  },
  {
   "cell_type": "code",
   "execution_count": 12,
   "metadata": {},
   "outputs": [
    {
     "name": "stderr",
     "output_type": "stream",
     "text": [
      "../decay/decay.py:252: RuntimeWarning: divide by zero encountered in true_divide\n",
      "  eps_max_ARCADE2 = eps_base * np.sqrt(np.min(dn_CMB_domega_ARCADE2_upper_check / dn_A_domega_ary))\n"
     ]
    },
    {
     "data": {
      "text/plain": [
       "3.400826513930178"
      ]
     },
     "execution_count": 12,
     "metadata": {},
     "output_type": "execute_result"
    }
   ],
   "source": [
    "z_ary, P_ary, max_rat, eps_max, omega_0 = spec_dapper.get_max_CMB_photon_ratio_z_17(m_Ap, m_a, tau_a, z_at_which_max=70, one_plus_delta_bound=1e2)\n",
    "max_rat"
   ]
  },
  {
   "cell_type": "code",
   "execution_count": 13,
   "metadata": {},
   "outputs": [
    {
     "data": {
      "text/plain": [
       "1.3977914728366787e-09"
      ]
     },
     "execution_count": 13,
     "metadata": {},
     "output_type": "execute_result"
    }
   ],
   "source": [
    "eps_max"
   ]
  },
  {
   "cell_type": "code",
   "execution_count": 14,
   "metadata": {},
   "outputs": [],
   "source": [
    "z_plot = np.logspace(-1, 3, 1000)\n",
    "spec_dapper.compute_temperature_evolution(m_a, spec_dapper.tau_a_LL() / spec_dapper.tau_u, z_plot, z_ary, omega_0 * P_ary * (1e-9 ** 2 / eps_max ** 2))"
   ]
  },
  {
   "cell_type": "code",
   "execution_count": 15,
   "metadata": {},
   "outputs": [],
   "source": [
    "plt.rcParams['figure.figsize'] = [6.153846153846153, 4.45]"
   ]
  },
  {
   "cell_type": "code",
   "execution_count": 16,
   "metadata": {},
   "outputs": [
    {
     "data": {
      "image/png": "[encoded data removed]",
      "text/plain": [
       "<Figure size 443.077x320.4 with 1 Axes>"
      ]
     },
     "metadata": {
      "needs_background": "light"
     },
     "output_type": "display_data"
    }
   ],
   "source": [
    "plt.plot(1 + z_plot, spec_dapper.T_CMB_A, color='k', label=r\"$A'\\rightarrow\\gamma$\")\n",
    "plt.plot(1 + z_plot, spec_dapper.T_CMB_SM, color='k', ls='--', label=\"Standard Model\")\n",
    "\n",
    "plt.xscale(\"log\")\n",
    "plt.yscale(\"log\")\n",
    "\n",
    "plt.xlabel(r\"$1 + z$\")\n",
    "plt.ylabel(r\"$T_\\gamma\\,\\mathrm{[K]}$\")\n",
    "\n",
    "plt.xlim(2, max(z_plot))\n",
    "plt.ylim(2, 8e3)\n",
    "plt.title(r\"\\bf{Features from photon injection}\")\n",
    "\n",
    "plt.legend(handlelength=1.3)\n",
    "\n",
    "plt.text(300, 3.5, \"$\\omega = \\omega_{21}$\", fontsize=17)\n",
    "\n",
    "plt.text(240, 1e3, \"Edge\", rotation=270, fontsize=14)\n",
    "plt.text(35, 1.5e2, \"Endpoint\", rotation=90, fontsize=14)\n",
    "\n",
    "plt.tight_layout()\n",
    "# plt.savefig(plots_dir + \"features.pdf\")"
   ]
  },
  {
   "cell_type": "code",
   "execution_count": 17,
   "metadata": {},
   "outputs": [
    {
     "name": "stderr",
     "output_type": "stream",
     "text": [
      "../../spectral_distortions_perturbations/grf/grf.py:145: RuntimeWarning: invalid value encountered in sqrt\n",
      "  m_A_ary = np.nan_to_num(np.sqrt(self.m_A_sq(z_ary, self.omega(omega_0, z_ary, evolve_z))), nan=1e-18 * eV)\n",
      "../../spectral_distortions_perturbations/grf/grf.py:150: RuntimeWarning: invalid value encountered in sqrt\n",
      "  return np.nan_to_num(np.sqrt(self.m_A_sq(z, self.omega(omega_0, z, evolve_z))), nan=1e-18 * eV) - m_A\n",
      "../../spectral_distortions_perturbations/grf/grf.py:403: RuntimeWarning: invalid value encountered in log\n",
      "  pdf_ary = 1 / np.sqrt(2 * np.pi * sigma_LN_sq_ary) * np.exp(-((np.log(1 / b * (m_Ap ** 2 / m_A_sq + b - 1)) + sigma_LN_sq_ary / 2.0) ** 2) / (2 * sigma_LN_sq_ary)) * (1.0 / (m_Ap ** 2 + (b - 1) * m_A_sq))\n",
      "../../spectral_distortions_perturbations/grf/grf.py:405: RuntimeWarning: invalid value encountered in log\n",
      "  dP_dz_ary = 1 / np.sqrt(2 * np.pi * sigma_LN_sq_ary) * np.exp(-((np.log(1 / b * (m_Ap ** 2 / m_A_sq + b - 1)) + sigma_LN_sq_ary / 2.0) ** 2) / (2 * sigma_LN_sq_ary)) / np.abs(self.dz_dt(z_mesh)) * (m_Ap ** 2 / (m_Ap ** 2 + (b - 1) * m_A_sq))\n"
     ]
    }
   ],
   "source": [
    "omega_plot_ary = np.logspace(-7.2, -2.5, 200) * eV\n",
    "z_ary, dP_dz_ary, _, _, z_ary_homo, P_ary_homo = spec_dapper.P_tot_perturb(omega_plot_ary, eps_max, m_Ap, get_total_prob=1, Ap_DM=0, one_plus_delta_bound=1e2)"
   ]
  },
  {
   "cell_type": "code",
   "execution_count": 18,
   "metadata": {},
   "outputs": [],
   "source": [
    "P_ary = (dP_dz_ary[:, 1:] + dP_dz_ary[:, :-1]) / 2.0 * np.diff(z_ary)\n",
    "z_res_ary = (z_ary[1:] + z_ary[:-1]) / 2.0"
   ]
  },
  {
   "cell_type": "code",
   "execution_count": 19,
   "metadata": {},
   "outputs": [],
   "source": [
    "dn_A_domega_plot_ary = []\n",
    "dn_Ap_domega_plot_ary = []\n",
    "\n",
    "for i_omega, omega in enumerate(omega_plot_ary):\n",
    "    dn_A_domega_temp, dn_Ap_domega_temp = spec_dapper.dn_A_domega(m_a=m_a, z=0, z_res_ary=np.concatenate([z_res_ary, z_ary_homo[i_omega]]), P_ary=np.concatenate([P_ary[i_omega], P_ary_homo[i_omega]]), omega=omega, tau_a=tau_a, return_Ap_spec=True)\n",
    "    dn_A_domega_plot_ary.append(dn_A_domega_temp)\n",
    "    dn_Ap_domega_plot_ary.append(dn_Ap_domega_temp)\n",
    "    \n",
    "dn_A_domega_plot_ary = np.array(dn_A_domega_plot_ary)\n",
    "dn_Ap_domega_plot_ary = np.array(dn_Ap_domega_plot_ary)"
   ]
  },
  {
   "cell_type": "code",
   "execution_count": 20,
   "metadata": {},
   "outputs": [
    {
     "data": {
      "text/plain": [
       "410.87630704747534"
      ]
     },
     "execution_count": 20,
     "metadata": {},
     "output_type": "execute_result"
    }
   ],
   "source": [
    "# Check to make sure we get right CMB photon density\n",
    "np.trapz(spec_dapper.dn_CMB_domega(omega_plot_ary, z=0, T_0=2.7255), omega_plot_ary) / (Centimeter ** -3)"
   ]
  },
  {
   "cell_type": "code",
   "execution_count": 21,
   "metadata": {},
   "outputs": [
    {
     "data": {
      "image/png": "[encoded data removed]",
      "text/plain": [
       "<Figure size 443.077x320.4 with 1 Axes>"
      ]
     },
     "metadata": {
      "needs_background": "light"
     },
     "output_type": "display_data"
    }
   ],
   "source": [
    "dn_CMB_domega_ARCADE2_mean = spec_dapper.dn_CMB_domega(spec_dapper.omega_ARCADE2_ary, z=0, T_0=spec_dapper.T_ARCADE2_fid) *  eV / (Centimeter ** -3)\n",
    "dn_CMB_domega_ARCADE2_upper = spec_dapper.dn_CMB_domega(spec_dapper.omega_ARCADE2_ary, z=0, T_0=spec_dapper.T_ARCADE2_fid + spec_dapper.T_ARCADE2_unc) *  eV / (Centimeter ** -3)\n",
    "dn_CMB_domega_ARCADE2_lower = spec_dapper.dn_CMB_domega(spec_dapper.omega_ARCADE2_ary, z=0, T_0=spec_dapper.T_ARCADE2_fid - spec_dapper.T_ARCADE2_unc) *  eV / (Centimeter ** -3)\n",
    "\n",
    "dn_CMB_domega_radio_mean = spec_dapper.dn_CMB_domega(spec_dapper.omega_radio_ary, z=0, T_0=spec_dapper.T_radio_fid) *  eV / (Centimeter ** -3)\n",
    "dn_CMB_domega_radio_upper = spec_dapper.dn_CMB_domega(spec_dapper.omega_radio_ary, z=0, T_0=spec_dapper.T_radio_fid + spec_dapper.T_radio_unc) *  eV / (Centimeter ** -3)\n",
    "dn_CMB_domega_radio_lower = spec_dapper.dn_CMB_domega(spec_dapper.omega_radio_ary, z=0, T_0=spec_dapper.T_radio_fid - 2 * spec_dapper.T_radio_unc) *  eV / (Centimeter ** -3)\n",
    "\n",
    "dn_CMB_domega_llfss_mean = spec_dapper.dn_CMB_domega(spec_dapper.omega_llfss_ary, z=0, T_0=spec_dapper.T_llfss_fid) *  eV / (Centimeter ** -3)\n",
    "dn_CMB_domega_llfss_upper = spec_dapper.dn_CMB_domega(spec_dapper.omega_llfss_ary, z=0, T_0=spec_dapper.T_llfss_fid + spec_dapper.T_llfss_unc) *  eV / (Centimeter ** -3)\n",
    "dn_CMB_domega_llfss_lower = spec_dapper.dn_CMB_domega(spec_dapper.omega_llfss_ary, z=0, T_0=spec_dapper.T_llfss_fid - spec_dapper.T_llfss_unc) *  eV / (Centimeter ** -3)\n",
    "\n",
    "plt.plot(omega_plot_ary / eV, np.array(dn_A_domega_plot_ary) / eV ** -1 / (Centimeter ** -3), label=r'$A^\\prime\\rightarrow\\gamma$') \n",
    "plt.plot(omega_plot_ary / eV, np.array(dn_Ap_domega_plot_ary) / eV ** -1 / (Centimeter ** -3), label=r'$A^\\prime$', ls='--') \n",
    "plt.plot(omega_plot_ary / eV, spec_dapper.dn_CMB_domega(omega_plot_ary, z=0, T_0=2.7255) / eV ** -1 / (Centimeter ** -3), label=\"CMB\", ls=':')\n",
    "\n",
    "I = firas.d * (1e6 * Jy) / (firas.omega_FIRAS / (4 * np.pi)) / eV ** -1 / (2 * np.pi)\n",
    "dI = firas.df['uncert'].values * (1e6 * Jy) / (firas.omega_FIRAS / (4 * np.pi)) / eV ** -1 / (2 * np.pi) / 1e3\n",
    "\n",
    "plt.errorbar(firas.omega_FIRAS / eV , I / (Centimeter ** -3), xerr=0, yerr=dI, c='k', fmt='none', capsize=2, capthick=1, elinewidth=1.)\n",
    "\n",
    "plt.errorbar(spec_dapper.omega_ARCADE2_ary / eV, np.array(dn_CMB_domega_ARCADE2_mean), xerr=0, yerr=[dn_CMB_domega_ARCADE2_mean - dn_CMB_domega_ARCADE2_lower, \n",
    "                                                                                                     dn_CMB_domega_ARCADE2_upper - dn_CMB_domega_ARCADE2_mean],\n",
    "            c='k', fmt='none', capsize=2, capthick=1, elinewidth=1.)\n",
    "\n",
    "plt.errorbar(spec_dapper.omega_radio_ary / eV, np.array(dn_CMB_domega_radio_mean), xerr=0, yerr=[dn_CMB_domega_radio_mean - dn_CMB_domega_radio_lower,\n",
    "                                                                                                 dn_CMB_domega_radio_upper - dn_CMB_domega_radio_mean],\n",
    "            c='k', fmt='none', capsize=2, capthick=1, elinewidth=1.)\n",
    "\n",
    "plt.errorbar(spec_dapper.omega_llfss_ary / eV, np.array(dn_CMB_domega_llfss_mean), xerr=0, yerr=[dn_CMB_domega_llfss_mean - dn_CMB_domega_llfss_lower,\n",
    "                                                                                                 dn_CMB_domega_llfss_upper - dn_CMB_domega_llfss_mean \n",
    "                                                                                                 ],\n",
    "            c='k', fmt='none', capsize=2, capthick=1, elinewidth=1., label=\"Meas.\")\n",
    "\n",
    "plt.xlabel(r\"$\\omega$\\,[eV]\")\n",
    "plt.ylabel(r\"$\\mathrm dn/\\mathrm d\\omega$\\,[cm$^{-3}$\\,eV$^{-1}$]\")\n",
    "\n",
    "plt.xscale(\"log\")\n",
    "plt.yscale(\"log\")\n",
    "\n",
    "plt.xlim(min(omega_plot_ary / eV), max(omega_plot_ary / eV))\n",
    "\n",
    "plt.legend(handlelength=1.3)\n",
    "\n",
    "plt.text(5e-4, 5e-22 / (Centimeter ** -3), \"$z=0$\", fontsize=18)\n",
    "\n",
    "plt.title(r\"\\bf{Number density spectra}\")\n",
    "\n",
    "ax = plt.gca()\n",
    "\n",
    "# locmaj = matplotlib.ticker.LogLocator(base=10,numticks=12) \n",
    "# # ax.xaxis.set_major_locator(locmaj)\n",
    "# ax.yaxis.set_major_locator(locmaj)\n",
    "\n",
    "plt.tight_layout()\n",
    "plt.savefig(plots_dir + \"dn_domega.pdf\")\n",
    "# plt.savefig(\"plots/dn_domega.png\")"
   ]
  },
  {
   "cell_type": "markdown",
   "metadata": {},
   "source": [
    "## 2. EDGES window"
   ]
  },
  {
   "cell_type": "code",
   "execution_count": 24,
   "metadata": {},
   "outputs": [],
   "source": [
    "spec_edges = DecaySpectra(pspec)"
   ]
  },
  {
   "cell_type": "code",
   "execution_count": 25,
   "metadata": {},
   "outputs": [
    {
     "name": "stdout",
     "output_type": "stream",
     "text": [
      "663.3749430196248 0.0004899765204769733\n"
     ]
    }
   ],
   "source": [
    "# m_Ap = 3.2e-12 * eV\n",
    "m_Ap = 1e-11 * eV\n",
    "\n",
    "tau_a = spec_edges.tau_a_LL()\n",
    "\n",
    "z_res = spec_edges.get_z_crossings(m_Ap, spec_edges.omega_21)[-1]\n",
    "\n",
    "z_end = 15.\n",
    "m_a = (1 + z_res) / (1 + z_end) * spec_edges.omega_21 * 2\n",
    "\n",
    "print(z_res, m_a / eV)"
   ]
  },
  {
   "cell_type": "code",
   "execution_count": 50,
   "metadata": {},
   "outputs": [
    {
     "name": "stderr",
     "output_type": "stream",
     "text": [
      "../decay/decay.py:252: RuntimeWarning: divide by zero encountered in true_divide\n",
      "  eps_max_ARCADE2 = eps_base * np.sqrt(np.min(dn_CMB_domega_ARCADE2_upper_check / dn_A_domega_ary))\n"
     ]
    },
    {
     "data": {
      "text/plain": [
       "30.879928090815874"
      ]
     },
     "execution_count": 50,
     "metadata": {},
     "output_type": "execute_result"
    }
   ],
   "source": [
    "z_ary, P_ary, max_rat, eps_max, omega_0 = spec_edges.get_max_CMB_photon_ratio_z_17(m_Ap, m_a, tau_a, z_at_which_max=17, one_plus_delta_bound=1e2)\n",
    "max_rat"
   ]
  },
  {
   "cell_type": "code",
   "execution_count": 51,
   "metadata": {},
   "outputs": [
    {
     "data": {
      "text/plain": [
       "1.3340685318027042e-07"
      ]
     },
     "execution_count": 51,
     "metadata": {},
     "output_type": "execute_result"
    }
   ],
   "source": [
    "eps_max"
   ]
  },
  {
   "cell_type": "code",
   "execution_count": 52,
   "metadata": {},
   "outputs": [
    {
     "data": {
      "text/plain": [
       "5.0357752401224585e-08"
      ]
     },
     "execution_count": 52,
     "metadata": {},
     "output_type": "execute_result"
    }
   ],
   "source": [
    "eps_max * np.sqrt(4.4 / max_rat)"
   ]
  },
  {
   "cell_type": "code",
   "execution_count": 53,
   "metadata": {},
   "outputs": [
    {
     "data": {
      "text/plain": [
       "0.14248737843753667"
      ]
     },
     "execution_count": 53,
     "metadata": {},
     "output_type": "execute_result"
    }
   ],
   "source": [
    "rat_P = 4.4 / max_rat\n",
    "rat_P"
   ]
  },
  {
   "cell_type": "code",
   "execution_count": 54,
   "metadata": {},
   "outputs": [
    {
     "name": "stderr",
     "output_type": "stream",
     "text": [
      "/Users/smsharma/anaconda3/lib/python3.7/site-packages/astropy/cosmology/core.py:1170: IntegrationWarning: The integral is probably divergent, or slowly convergent.\n",
      "  red, np.inf)[0]\n",
      "/Users/smsharma/anaconda3/lib/python3.7/site-packages/astropy/cosmology/core.py:1170: IntegrationWarning: The integral is probably divergent, or slowly convergent.\n",
      "  red, np.inf)[0]\n",
      "/Users/smsharma/anaconda3/lib/python3.7/site-packages/astropy/cosmology/core.py:1170: IntegrationWarning: The integral is probably divergent, or slowly convergent.\n",
      "  red, np.inf)[0]\n",
      "/Users/smsharma/anaconda3/lib/python3.7/site-packages/astropy/cosmology/core.py:1170: IntegrationWarning: The integral is probably divergent, or slowly convergent.\n",
      "  red, np.inf)[0]\n",
      "/Users/smsharma/anaconda3/lib/python3.7/site-packages/astropy/cosmology/core.py:1170: IntegrationWarning: The integral is probably divergent, or slowly convergent.\n",
      "  red, np.inf)[0]\n"
     ]
    }
   ],
   "source": [
    "z_plot = np.logspace(-1, 3, 1000)\n",
    "spec_edges.compute_temperature_evolution(m_a, spec_edges.tau_a_LL() / spec_edges.tau_u, z_plot, z_ary, rat_P * omega_0 * P_ary)"
   ]
  },
  {
   "cell_type": "code",
   "execution_count": 31,
   "metadata": {},
   "outputs": [],
   "source": [
    "z_max = 700.\n",
    "z_min = 11.\n",
    "z_21_ary = np.logspace(np.log10(z_min), np.log10(z_max), 1000)[:: -1]"
   ]
  },
  {
   "cell_type": "code",
   "execution_count": 56,
   "metadata": {},
   "outputs": [
    {
     "data": {
      "application/vnd.jupyter.widget-view+json": {
       "model_id": "54253ccdad1e4374b68c086fa8c07148",
       "version_major": 2,
       "version_minor": 0
      },
      "text/plain": [
       "HBox(children=(IntProgress(value=0, max=1000), HTML(value='')))"
      ]
     },
     "metadata": {},
     "output_type": "display_data"
    },
    {
     "name": "stdout",
     "output_type": "stream",
     "text": [
      "\n"
     ]
    }
   ],
   "source": [
    "to_noX = copy.copy(to) \n",
    "to_noX.mod_f_star(f_star_L=0.03, f_star_X=0.3 * 0.03, T_vir_cut=2e4 * Kelv)"
   ]
  },
  {
   "cell_type": "code",
   "execution_count": 57,
   "metadata": {},
   "outputs": [],
   "source": [
    "T_gamma_SM = lambda z: to.T_CMB(z)\n",
    "to_SM_solve = TwentyOneSolver(T_gamma=T_gamma_SM, to=to, z_ary=z_21_ary)\n",
    "to_SM_solution = to_SM_solve.solve()"
   ]
  },
  {
   "cell_type": "code",
   "execution_count": 58,
   "metadata": {},
   "outputs": [],
   "source": [
    "T_end_15_interp = interp1d(z_plot, spec_edges.T_CMB_A)\n",
    "\n",
    "T_gamma = lambda z: T_end_15_interp(z)\n",
    "T_end_15_solve = TwentyOneSolver(T_gamma=T_gamma, to=to_noX, z_ary=z_21_ary)\n",
    "T_end_15_solution = T_end_15_solve.solve()"
   ]
  },
  {
   "cell_type": "code",
   "execution_count": 59,
   "metadata": {},
   "outputs": [],
   "source": [
    "spec_edges.get_powerlaw_params()\n",
    "\n",
    "T_CMB_mod_ary = spec_edges.T_CMB_powerlaw_ary(z_plot, 0.020)\n",
    "\n",
    "T_powerlaw_interp = interp1d(z_plot, T_CMB_mod_ary)\n",
    "\n",
    "T_gamma = lambda z: T_powerlaw_interp(z)\n",
    "T_powerlaw_solve = TwentyOneSolver(T_gamma=T_gamma, to=to, z_ary=z_21_ary)\n",
    "T_powerlaw_solution = T_powerlaw_solve.solve()"
   ]
  },
  {
   "cell_type": "code",
   "execution_count": 86,
   "metadata": {},
   "outputs": [
    {
     "data": {
      "image/png": "[encoded data removed]",
      "text/plain": [
       "<Figure size 443.077x320.4 with 1 Axes>"
      ]
     },
     "metadata": {
      "needs_background": "light"
     },
     "output_type": "display_data"
    }
   ],
   "source": [
    "fig, ax = plt.subplots()\n",
    "\n",
    "plt.plot(1 + z_ary_EDGES,T21_EDGES, alpha=0.5, color=cols_default[1])\n",
    "plt.fill_between(1 + z_ary_EDGES, T21_EDGES_min, T21_EDGES_max, alpha=0.15, color=cols_default[1], label='EDGES (2018)')\n",
    "plt.plot(1 + T_end_15_solve.z_ary, T_end_15_solve.delta_T_b_ary, label=r'$A^\\prime \\rightarrow \\gamma$', alpha=0.9, color=cols_default[0])\n",
    "plt.plot(1 + to_SM_solve.z_ary, to_SM_solve.delta_T_b_ary, label='Standard Model', color='k', alpha=0.5, ls='--')\n",
    "plt.plot(1 + T_powerlaw_solve.z_ary, T_powerlaw_solve.delta_T_b_ary, label='Power law', color='k', alpha=0.5, ls=':')\n",
    "\n",
    "plt.xlabel(\"$1 + z$\")\n",
    "plt.ylabel(\"$\\Delta T_{\\mathrm b}\\,\\mathrm{[K]}$\")\n",
    "plt.title(r\"\\bf{Benchmark 1}  (endpoint at $z\\sim 15$)\")\n",
    "\n",
    "plt.legend(loc='lower right', handlelength=1.3)\n",
    "\n",
    "plt.xlim(np.min(1 + T_end_15_solve.z_ary), 30)\n",
    "\n",
    "# plt.xscale(\"log\")\n",
    "\n",
    "plt.ylim(-1.05, 0.1)\n",
    "\n",
    "plt.tight_layout()\n",
    "\n",
    "# plt.text(13, -1.14, r\"$\\epsilon=10^{-8}$\", fontsize=14)\n",
    "# plt.text(13, -1.06, r\"$m_{\\gamma^\\prime} = 4.7\\times 10^{-13}\\,\\mathrm{eV}, m_{a} = 10^{-4}\\,\\mathrm{eV}$\", fontsize=14)\n",
    "\n",
    "# plt.savefig(plots_dir + \"T_b_z_res_130.pdf\", bbox_inches='tight',pad_inches = 0.05)\n",
    "\n",
    "plt.savefig(plots_dir + \"delta_T_b_1.pdf\")"
   ]
  },
  {
   "cell_type": "code",
   "execution_count": 94,
   "metadata": {},
   "outputs": [
    {
     "data": {
      "image/png": "[encoded data removed]",
      "text/plain": [
       "<Figure size 443.077x320.4 with 1 Axes>"
      ]
     },
     "metadata": {
      "needs_background": "light"
     },
     "output_type": "display_data"
    }
   ],
   "source": [
    "fig, ax = plt.subplots()\n",
    "\n",
    "ax.plot(1 + T_end_15_solve.z_ary, T_end_15_solve.T_k_ary, label='$T_\\mathrm{k}$', color=cols_default[0])\n",
    "ax.plot(1 + T_end_15_solve.z_ary, T_end_15_solve.T_gamma_ary, label='$T_\\gamma$', color=cols_default[1])\n",
    "ax.plot(1 + T_end_15_solve.z_ary, T_end_15_solve.T_s_ary, label='$T_\\mathrm{s}$', color=cols_default[2])\n",
    "\n",
    "ax.plot(1 + T_powerlaw_solve.z_ary, T_powerlaw_solve.T_k_ary, label='$T_\\mathrm{k}$', color=cols_default[0], ls=':')\n",
    "ax.plot(1 + T_powerlaw_solve.z_ary, T_powerlaw_solve.T_gamma_ary, label='$T_\\gamma$', color=cols_default[1], ls=':')\n",
    "ax.plot(1 + T_powerlaw_solve.z_ary, T_powerlaw_solve.T_s_ary, label='$T_\\mathrm{s}$', color=cols_default[2], ls=':')\n",
    "\n",
    "ax.plot(1 + to_SM_solve.z_ary, to_SM_solve.T_k_ary, label='$T_k$', color=cols_default[0], ls='--')\n",
    "ax.plot(1 + to_SM_solve.z_ary, to_SM_solve.T_gamma_ary, label='$T_\\gamma$', color=cols_default[1], ls='--')\n",
    "ax.plot(1 + to_SM_solve.z_ary, to_SM_solve.T_s_ary, label='$T_s$', color=cols_default[2], ls='--')\n",
    "\n",
    "ax.set_xlabel(\"$1 + z$\")\n",
    "ax.set_ylabel(\"$T\\,\\mathrm{[K]}$\")\n",
    "ax.set_title(r\"\\bf{Benchmark 1}  (endpoint at $z\\sim 15$)\")\n",
    "\n",
    "ax.set_yscale(\"log\")\n",
    "# plt.xscale(\"log\")\n",
    "\n",
    "ax.set_xlim(np.min(1 + to_SM_solve.z_ary), 30)\n",
    "ax.set_ylim(5, 2e4)\n",
    "\n",
    "plt.tight_layout()\n",
    "\n",
    "handles,labels = ax.get_legend_handles_labels()\n",
    "\n",
    "custom_lines = [Line2D([0], [0], color='k', linestyle=ls) for ls in ['-','--',':']]\n",
    "custom_labels = [r'$A^\\prime \\rightarrow \\gamma$', 'Standard Model', 'Power law']\n",
    "\n",
    "# Modify them with new legend marker and label\n",
    "handles = list(handles[:3]) + custom_lines\n",
    "labels = list(labels[:3]) + custom_labels\n",
    "\n",
    "ax.legend(handles, labels, ncol=2, handlelength=1.3, fontsize=15.8)\n",
    "\n",
    "plt.savefig(plots_dir + \"T_evol_1.pdf\")"
   ]
  },
  {
   "cell_type": "markdown",
   "metadata": {},
   "source": [
    "## 3. Injection"
   ]
  },
  {
   "cell_type": "code",
   "execution_count": 22,
   "metadata": {},
   "outputs": [
    {
     "name": "stderr",
     "output_type": "stream",
     "text": [
      "../../spectral_distortions_perturbations/grf/grf.py:663: FutureWarning: read_table is deprecated, use read_csv instead.\n",
      "  df = pd.read_table(\"../data/firas_monopole_spec_v1.txt\", skiprows=18, sep=\"\\s+\", header=None, names=[\"freq\", \"I\", \"residual\", \"uncert\", \"poles\"])\n"
     ]
    }
   ],
   "source": [
    "spec_dapper2 = DecaySpectra(pspec)"
   ]
  },
  {
   "cell_type": "code",
   "execution_count": 26,
   "metadata": {},
   "outputs": [
    {
     "name": "stdout",
     "output_type": "stream",
     "text": [
      "94.92564698059199 1.7150342945014933e-05\n"
     ]
    }
   ],
   "source": [
    "m_Ap = 10 ** -12.6 * eV\n",
    "z_res = spec_dapper2.get_z_crossings(m_Ap, spec_edges.omega_21)[-1]\n",
    "\n",
    "z_end = 65.\n",
    "m_a = (1 + z_res) / (z_end + 1) * spec_dapper2.omega_21 * 2\n",
    "\n",
    "print(z_res, m_a / eV)"
   ]
  },
  {
   "cell_type": "code",
   "execution_count": 27,
   "metadata": {},
   "outputs": [
    {
     "name": "stderr",
     "output_type": "stream",
     "text": [
      "../decay/decay.py:252: RuntimeWarning: divide by zero encountered in true_divide\n",
      "  eps_max_ARCADE2 = eps_base * np.sqrt(np.min(dn_CMB_domega_ARCADE2_upper_check / dn_A_domega_ary))\n"
     ]
    },
    {
     "data": {
      "text/plain": [
       "3.1488744686428345"
      ]
     },
     "execution_count": 27,
     "metadata": {},
     "output_type": "execute_result"
    }
   ],
   "source": [
    "z_ary, P_ary, max_rat, eps_max, omega_0 = spec_dapper2.get_max_CMB_photon_ratio_z_17(m_Ap, m_a, tau_a, z_at_which_max=70, one_plus_delta_bound=1e2)\n",
    "max_rat"
   ]
  },
  {
   "cell_type": "code",
   "execution_count": 28,
   "metadata": {},
   "outputs": [
    {
     "data": {
      "text/plain": [
       "4.500936461767814e-10"
      ]
     },
     "execution_count": 28,
     "metadata": {},
     "output_type": "execute_result"
    }
   ],
   "source": [
    "eps_max"
   ]
  },
  {
   "cell_type": "code",
   "execution_count": 29,
   "metadata": {},
   "outputs": [],
   "source": [
    "z_plot = np.logspace(-1, 3, 1000)\n",
    "spec_dapper2.compute_temperature_evolution(m_a, spec_dapper2.tau_a_LL() / spec_dapper2.tau_u, z_plot, z_ary, omega_0 * P_ary)"
   ]
  },
  {
   "cell_type": "code",
   "execution_count": 32,
   "metadata": {},
   "outputs": [],
   "source": [
    "T_DAPPEr2_interp = interp1d(z_plot, spec_dapper2.T_CMB_A)\n",
    "\n",
    "T_gamma = lambda z: T_DAPPEr2_interp(z)\n",
    "T_DAPPEr2_solve = TwentyOneSolver(T_gamma=T_gamma, to=to, z_ary=z_21_ary)\n",
    "T_DAPPEr2_solution = T_DAPPEr2_solve.solve()"
   ]
  },
  {
   "cell_type": "code",
   "execution_count": 33,
   "metadata": {},
   "outputs": [],
   "source": [
    "spec_dapper2.get_powerlaw_params()\n",
    "\n",
    "T_CMB_mod_ary = spec_dapper2.T_CMB_powerlaw_ary(z_plot, 0.0001)\n",
    "T_powerlaw2_interp = interp1d(z_plot, T_CMB_mod_ary)\n",
    "\n",
    "T_gamma = lambda z: T_powerlaw2_interp(z)\n",
    "T_powerlaw2_solve = TwentyOneSolver(T_gamma=T_gamma, to=to, z_ary=z_21_ary)\n",
    "T_powerlaw2_solution = T_powerlaw2_solve.solve()"
   ]
  },
  {
   "cell_type": "code",
   "execution_count": 36,
   "metadata": {},
   "outputs": [],
   "source": [
    "# z = np.logspace(np.log10(np.min(T_end_15_solve.z_ary)), np.log10(120), 10)\n",
    "# spec_edges.omega_21 / ( 1 + z) / (1e6 * Hz) / (2 * np.pi)"
   ]
  },
  {
   "cell_type": "code",
   "execution_count": 40,
   "metadata": {},
   "outputs": [
    {
     "data": {
      "image/png": "[encoded data removed]",
      "text/plain": [
       "<Figure size 443.077x320.4 with 1 Axes>"
      ]
     },
     "metadata": {
      "needs_background": "light"
     },
     "output_type": "display_data"
    }
   ],
   "source": [
    "from matplotlib.ticker import (\n",
    "    AutoLocator, AutoMinorLocator)\n",
    "\n",
    "fig, ax = plt.subplots()\n",
    "# ax.tick_params(labelleft=False)    \n",
    "\n",
    "# ax.plot(1 + z_ary_EDGES,T21_EDGES, alpha=0.5, color=cols_default[1])\n",
    "# ax.fill_between(1 + z_ary_EDGES, T21_EDGES_min, T21_EDGES_max, alpha=0.15, color=cols_default[1], label='EDGES (2018)')\n",
    "ax.plot(1 + T_DAPPEr2_solve.z_ary, T_DAPPEr2_solve.delta_T_b_ary, label=r'$A^\\prime \\rightarrow \\gamma$', alpha=0.9, color=cols_default[0])\n",
    "# ax.plot(1 + to_SM_solve.z_ary, to_SM_solve.delta_T_b_ary, label='Standard Model', color='k', alpha=0.5, ls='--')\n",
    "# ax.plot(1 + T_powerlaw2_solve.z_ary, T_powerlaw2_solve.delta_T_b_ary, label='Power law', color='k', alpha=0.5, ls=':')\n",
    "\n",
    "# cond = (to_SM_solve.z_ary < freq_to_opz(15)) * (to_SM_solve.z_ary > freq_to_opz(40))\n",
    "# ax.fill_between(1 + to_SM_solve.z_ary[cond], np.array(T_DAPPEr2_solve.delta_T_b_ary)[cond] - 15e-3, np.array(T_DAPPEr2_solve.delta_T_b_ary)[cond] + 15e-3, alpha=0.2, color=cols_default[2], label=\"DAPPER uncertainty (proposed)\")\n",
    "\n",
    "\n",
    "\n",
    "ax.set_xlabel(\"$1 + z$\")\n",
    "ax.set_ylabel(\"$\\Delta T_{\\mathrm b}\\,\\mathrm{[K]}$\")\n",
    "ax.set_title(r\"\\bf{Benchmark 2} (feature in dark ages)\")\n",
    "\n",
    "ax.legend(loc='lower left', handlelength=1.3)\n",
    "\n",
    "ax.set_xlim(np.min(1 + T_DAPPEr2_solve.z_ary), 120)\n",
    "\n",
    "# ax.set_xscale(\"log\")\n",
    "\n",
    "ax.set_ylim(-.35, 0.05)\n",
    "\n",
    "# secax = ax.secondary_xaxis('top', functions=(opz_to_freq, freq_to_opz))\n",
    "# secax = ax.secondary_xaxis('top')\n",
    "\n",
    "\n",
    "# # secax.xaxis.set_minor_locator(AutoMinorLocator())\n",
    "# secax.set_xlabel(r\"$\\nu$\\,[MHz]\")\n",
    "# secax.set_xticks([])\n",
    "# secax.set_xticks([])\n",
    "# secax.set_xticks(1 / np.array([50, 30, 20, 12]))\n",
    "# secax.set_xticklabels(np.array([50, 30, 20, 12]))\n",
    "# # secax.xaxis.set_minor_locator(AutoMinorLocator())\n",
    "# # secax.xaxis.set_major_locator(AutoLocator())\n",
    "\n",
    "# secax.tick_params(top=False, labeltop=False)\n",
    "ax.tick_params(top=False, labeltop=False)\n",
    "\n",
    "plt.tight_layout()\n",
    "\n",
    "# plt.text(13, -1.14, r\"$\\epsilon=10^{-8}$\", fontsize=14)\n",
    "# plt.text(13, -1.06, r\"$m_{\\gamma^\\prime} = 4.7\\times 10^{-13}\\,\\mathrm{eV}, m_{a} = 10^{-4}\\,\\mathrm{eV}$\", fontsize=14)\n",
    "\n",
    "# plt.savefig(plots_dir + \"T_b_z_res_130.pdf\", bbox_inches='tight',pad_inches = 0.05)\n",
    "\n",
    "# plt.savefig(plots_dir + \"delta_T_b_2.pdf\")\n",
    "plt.savefig(\"/Users/smsharma/Desktop/tb.pdf\")"
   ]
  },
  {
   "cell_type": "code",
   "execution_count": 93,
   "metadata": {},
   "outputs": [
    {
     "data": {
      "image/png": "[encoded data removed]",
      "text/plain": [
       "<Figure size 443.077x320.4 with 1 Axes>"
      ]
     },
     "metadata": {
      "needs_background": "light"
     },
     "output_type": "display_data"
    }
   ],
   "source": [
    "fig, ax = plt.subplots()\n",
    "\n",
    "ax.plot(1 + T_DAPPEr2_solve.z_ary, T_DAPPEr2_solve.T_k_ary, label='$T_\\mathrm{k}$', color=cols_default[0])\n",
    "ax.plot(1 + T_DAPPEr2_solve.z_ary, T_DAPPEr2_solve.T_gamma_ary, label='$T_\\gamma$', color=cols_default[1])\n",
    "ax.plot(1 + T_DAPPEr2_solve.z_ary, T_DAPPEr2_solve.T_s_ary, label='$T_\\mathrm{s}$', color=cols_default[2])\n",
    "\n",
    "ax.plot(1 + T_powerlaw2_solve.z_ary, T_powerlaw2_solve.T_k_ary, label='$T_\\mathrm{k}$', color=cols_default[0], ls=':')\n",
    "ax.plot(1 + T_powerlaw2_solve.z_ary, T_powerlaw2_solve.T_gamma_ary, label='$T_\\gamma$', color=cols_default[1], ls=':')\n",
    "ax.plot(1 + T_powerlaw2_solve.z_ary, T_powerlaw2_solve.T_s_ary, label='$T_\\mathrm{s}$', color=cols_default[2], ls=':')\n",
    "\n",
    "ax.plot(1 + to_SM_solve.z_ary, to_SM_solve.T_k_ary, label='$T_k$', color=cols_default[0], ls='--')\n",
    "ax.plot(1 + to_SM_solve.z_ary, to_SM_solve.T_gamma_ary, label='$T_\\gamma$', color=cols_default[1], ls='--')\n",
    "ax.plot(1 + to_SM_solve.z_ary, to_SM_solve.T_s_ary, label='$T_s$', color=cols_default[2], ls='--')\n",
    "\n",
    "ax.set_xlabel(\"$1 + z$\")\n",
    "ax.set_ylabel(\"$T\\,\\mathrm{[K]}$\")\n",
    "ax.set_title(r\"\\bf{Benchmark 2} (feature in dark ages)\")\n",
    "\n",
    "ax.set_yscale(\"log\")\n",
    "# plt.xscale(\"log\")\n",
    "\n",
    "ax.set_xlim(1 + np.min(to_SM_solve.z_ary), 120)\n",
    "ax.set_ylim(5, 7e3)\n",
    "\n",
    "plt.tight_layout()\n",
    "\n",
    "handles,labels = ax.get_legend_handles_labels()\n",
    "\n",
    "custom_lines = [Line2D([0], [0], color='k', linestyle=ls) for ls in ['-','--',':']]\n",
    "custom_labels = [r'$A^\\prime \\rightarrow \\gamma$', 'Standard Model', 'Power law']\n",
    "\n",
    "# Modify them with new legend marker and label\n",
    "handles = list(handles[:3]) + custom_lines\n",
    "labels = list(labels[:3]) + custom_labels\n",
    "\n",
    "ax.legend(handles, labels, ncol=2, handlelength=1.3, fontsize=15.8)\n",
    "\n",
    "plt.savefig(plots_dir + \"T_evol_2.pdf\")"
   ]
  },
  {
   "cell_type": "code",
   "execution_count": 72,
   "metadata": {},
   "outputs": [
    {
     "data": {
      "image/png": "[encoded data removed]",
      "text/plain": [
       "<Figure size 443.077x324 with 1 Axes>"
      ]
     },
     "metadata": {
      "needs_background": "light"
     },
     "output_type": "display_data"
    }
   ],
   "source": [
    "plt.plot(1 + z_plot, spec_dapper2.T_CMB_A, color='k', label=r\"$A'\\rightarrow\\gamma$\")\n",
    "plt.plot(1 + z_plot, spec_dapper2.T_CMB_SM, color='k', ls='--', label=\"Standard Model\")\n",
    "\n",
    "plt.xscale(\"log\")\n",
    "plt.yscale(\"log\")\n",
    "\n",
    "plt.xlabel(r\"$1 + z$\")\n",
    "plt.ylabel(r\"$T_\\gamma\\,\\mathrm{[K]}$\")\n",
    "\n",
    "plt.xlim(5, 140)\n",
    "plt.ylim(2, 8e3)\n",
    "plt.title(r\"\\bf{Features from photon injection}\")\n",
    "\n",
    "plt.legend(handlelength=1.3)\n",
    "\n",
    "# plt.text(300, 3.5, \"$\\omega = \\omega_{21}$\", fontsize=17)\n",
    "\n",
    "# plt.text(240, 1e3, \"Edge\", rotation=270, fontsize=14)\n",
    "# plt.text(35, 1.5e2, \"Endpoint\", rotation=90, fontsize=14)\n",
    "\n",
    "plt.tight_layout()\n",
    "# plt.savefig(plots_dir + \"features.pdf\")"
   ]
  },
  {
   "cell_type": "markdown",
   "metadata": {},
   "source": [
    "## Maximum possible absorption in SM"
   ]
  },
  {
   "cell_type": "code",
   "execution_count": 335,
   "metadata": {},
   "outputs": [
    {
     "data": {
      "application/vnd.jupyter.widget-view+json": {
       "model_id": "09089666e3954490acb741462e5a6640",
       "version_major": 2,
       "version_minor": 0
      },
      "text/plain": [
       "HBox(children=(IntProgress(value=0, max=1000), HTML(value='')))"
      ]
     },
     "metadata": {},
     "output_type": "display_data"
    },
    {
     "name": "stdout",
     "output_type": "stream",
     "text": [
      "\n"
     ]
    },
    {
     "data": {
      "application/vnd.jupyter.widget-view+json": {
       "model_id": "54dd680a651f4c1f96636ab9b4ca1824",
       "version_major": 2,
       "version_minor": 0
      },
      "text/plain": [
       "HBox(children=(IntProgress(value=0, max=1000), HTML(value='')))"
      ]
     },
     "metadata": {},
     "output_type": "display_data"
    },
    {
     "name": "stdout",
     "output_type": "stream",
     "text": [
      "\n"
     ]
    },
    {
     "data": {
      "application/vnd.jupyter.widget-view+json": {
       "model_id": "35840bf4f8fa4a7dac2cba8080f84eff",
       "version_major": 2,
       "version_minor": 0
      },
      "text/plain": [
       "HBox(children=(IntProgress(value=0, max=1000), HTML(value='')))"
      ]
     },
     "metadata": {},
     "output_type": "display_data"
    },
    {
     "name": "stdout",
     "output_type": "stream",
     "text": [
      "\n"
     ]
    }
   ],
   "source": [
    "to_WF = TwentyOne(z_min=10., z_max=40., f_star_L=0.03, f_star_X=1e-10, T_vir_cut=1e4 * Kelv)"
   ]
  },
  {
   "cell_type": "code",
   "execution_count": 336,
   "metadata": {},
   "outputs": [],
   "source": [
    "z_max = 30.\n",
    "z_min = 11.\n",
    "z_21_ary = np.logspace(np.log10(z_min), np.log10(z_max), 100)[:: -1]"
   ]
  },
  {
   "cell_type": "code",
   "execution_count": 337,
   "metadata": {},
   "outputs": [],
   "source": [
    "T_gamma_SM = lambda z: to.T_CMB(z)\n",
    "to_WF_solve = TwentyOneSolver(T_gamma=T_gamma_SM, to=to_WF, z_ary=z_21_ary, perfect_WF=True)\n",
    "to_WF_solution = to_WF_solve.solve()"
   ]
  },
  {
   "cell_type": "code",
   "execution_count": 338,
   "metadata": {},
   "outputs": [
    {
     "data": {
      "text/plain": [
       "-0.2138169547414997"
      ]
     },
     "execution_count": 338,
     "metadata": {},
     "output_type": "execute_result"
    }
   ],
   "source": [
    "np.min(to_WF_solve.delta_T_b_ary)"
   ]
  },
  {
   "cell_type": "code",
   "execution_count": 42,
   "metadata": {},
   "outputs": [
    {
     "data": {
      "text/plain": [
       "array([8.96982226])"
      ]
     },
     "execution_count": 42,
     "metadata": {},
     "output_type": "execute_result"
    }
   ],
   "source": [
    "to.M_min(2e4 * Kelv, 20) / M_s / 1e7"
   ]
  },
  {
   "cell_type": "markdown",
   "metadata": {},
   "source": [
    "## Typical $\\epsilon$ values"
   ]
  },
  {
   "cell_type": "code",
   "execution_count": 125,
   "metadata": {},
   "outputs": [
    {
     "name": "stderr",
     "output_type": "stream",
     "text": [
      "../../spectral_distortions_perturbations/grf/grf.py:663: FutureWarning: read_table is deprecated, use read_csv instead.\n",
      "  df = pd.read_table(\"../data/firas_monopole_spec_v1.txt\", skiprows=18, sep=\"\\s+\", header=None, names=[\"freq\", \"I\", \"residual\", \"uncert\", \"poles\"])\n"
     ]
    }
   ],
   "source": [
    "spec_typical = DecaySpectra(pspec)"
   ]
  },
  {
   "cell_type": "code",
   "execution_count": 154,
   "metadata": {},
   "outputs": [],
   "source": [
    "m_Ap = 1 * 10 ** -9 * eV\n",
    "m_a = 4 * 10 ** -3 * eV"
   ]
  },
  {
   "cell_type": "code",
   "execution_count": 155,
   "metadata": {},
   "outputs": [
    {
     "data": {
      "text/plain": [
       "525.2704197506306"
      ]
     },
     "execution_count": 155,
     "metadata": {},
     "output_type": "execute_result"
    }
   ],
   "source": [
    "z_ary, P_ary, max_rat, eps_max, omega_0 = spec_typical.get_max_CMB_photon_ratio_z_17(m_Ap, m_a, tau_a, z_at_which_max=17, one_plus_delta_bound=1e2)\n",
    "max_rat"
   ]
  },
  {
   "cell_type": "code",
   "execution_count": 156,
   "metadata": {},
   "outputs": [
    {
     "data": {
      "text/plain": [
       "1.859447170734225e-08"
      ]
     },
     "execution_count": 156,
     "metadata": {},
     "output_type": "execute_result"
    }
   ],
   "source": [
    "eps_max * np.sqrt(4. / max_rat)"
   ]
  },
  {
   "cell_type": "code",
   "execution_count": null,
   "metadata": {},
   "outputs": [],
   "source": [
    "5.0005998545661845e-08\n",
    "7.097061423709747e-09\n",
    "4.963439156824648e-08\n",
    "1.4345953076266737e-06\n",
    "8.211197896611458e-08\n",
    "2.1355052421136844e-07"
   ]
  }
 ],
 "metadata": {
  "kernelspec": {
   "display_name": "Python 3",
   "language": "python",
   "name": "python3"
  },
  "language_info": {
   "codemirror_mode": {
    "name": "ipython",
    "version": 3
   },
   "file_extension": ".py",
   "mimetype": "text/x-python",
   "name": "python",
   "nbconvert_exporter": "python",
   "pygments_lexer": "ipython3",
   "version": "3.7.3"
  }
 },
 "nbformat": 4,
 "nbformat_minor": 4
}
